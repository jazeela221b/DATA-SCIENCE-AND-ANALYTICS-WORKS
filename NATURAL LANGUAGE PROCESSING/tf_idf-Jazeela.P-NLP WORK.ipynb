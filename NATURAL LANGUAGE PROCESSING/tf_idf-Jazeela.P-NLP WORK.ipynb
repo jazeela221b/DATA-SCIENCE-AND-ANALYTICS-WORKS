{
 "cells": [
  {
   "cell_type": "markdown",
   "id": "894ccbb1",
   "metadata": {},
   "source": [
    "# TF-IDF"
   ]
  },
  {
   "cell_type": "markdown",
   "id": "0a023448",
   "metadata": {},
   "source": [
    "### TF-IDF (term frequency-inverse document frequency)\n",
    "It is a numerical statistic that is intended to reflect how important a word is to a document in a collection or corpus which is often used as a weighting factor in searches of information retrieval, text mining, and user modeling.\n",
    "* it is a measure, used in the fields of information retrieval (IR) and machine learning, that can quantify the importance or relevance of string representations (words, phrases, lemmas, etc)  in a document amongst a collection of documents (also known as a corpus).\n",
    "* TF-IDF can be broken down into two parts TF (term frequency) and IDF (inverse document frequency).\n",
    "    * TF (term frequency)?\n",
    "        * Term frequency-the frequency of a particular term you are concerned with relative to the document. \n",
    "    * IDF (inverse document frequency)?\n",
    "        * Inverse document frequency looks at how common (or uncommon) a word is amongst the corpus.\n",
    "* TF gives us information on how often a term appears in a document and IDF gives us information about the relative rarity of a term in the collection of documents. By multiplying these values together we can get our final TF-IDF value which shows the importance of a term is inversely related to its frequency across documents."
   ]
  },
  {
   "cell_type": "markdown",
   "id": "f16dc9ad",
   "metadata": {},
   "source": [
    "#  Token Preparation\n",
    "## Documents: for input\n"
   ]
  },
  {
   "cell_type": "code",
   "execution_count": 1,
   "id": "24356375",
   "metadata": {},
   "outputs": [],
   "source": [
    "doc1='''Gangs of Wasseypur is a great movie. Wasseypur is a town in Bihar.'''\n",
    "doc2='''The Success of a song depends on the music. '''\n",
    "doc3='''There is a movie releasing this week. The movie is fun to watch.'''\n",
    "collectdoc=[doc1,doc2,doc3] #document list\n"
   ]
  },
  {
   "cell_type": "markdown",
   "id": "bd376671",
   "metadata": {},
   "source": [
    "### Casefold the given documents"
   ]
  },
  {
   "cell_type": "code",
   "execution_count": 3,
   "id": "ee8f21cc",
   "metadata": {},
   "outputs": [
    {
     "name": "stdout",
     "output_type": "stream",
     "text": [
      "['gangs of wasseypur is a great movie. wasseypur is a town in bihar.', 'the success of a song depends on the music. ', 'there is a movie releasing this week. the movie is fun to watch.']\n"
     ]
    }
   ],
   "source": [
    "collectdoc_casefold=[]\n",
    "for doc in collectdoc:\n",
    "    collectdoc_casefold.append(doc.casefold())\n",
    "print(collectdoc_casefold)"
   ]
  },
  {
   "cell_type": "markdown",
   "id": "00f89cc7",
   "metadata": {},
   "source": [
    "### Tokenize"
   ]
  },
  {
   "cell_type": "code",
   "execution_count": 19,
   "id": "2a0dc7b7",
   "metadata": {},
   "outputs": [],
   "source": [
    " import nltk"
   ]
  },
  {
   "cell_type": "code",
   "execution_count": 4,
   "id": "36470064",
   "metadata": {},
   "outputs": [],
   "source": [
    "from nltk.tokenize import word_tokenize"
   ]
  },
  {
   "cell_type": "code",
   "execution_count": 11,
   "id": "02f817ad",
   "metadata": {},
   "outputs": [
    {
     "name": "stderr",
     "output_type": "stream",
     "text": [
      "[nltk_data] Downloading package punkt to\n",
      "[nltk_data]     C:\\Users\\jazee\\AppData\\Roaming\\nltk_data...\n",
      "[nltk_data]   Unzipping tokenizers\\punkt.zip.\n"
     ]
    },
    {
     "data": {
      "text/plain": [
       "True"
      ]
     },
     "execution_count": 11,
     "metadata": {},
     "output_type": "execute_result"
    }
   ],
   "source": [
    "nltk.download('punkt')"
   ]
  },
  {
   "cell_type": "code",
   "execution_count": 5,
   "id": "8ecaa2dc",
   "metadata": {},
   "outputs": [
    {
     "name": "stdout",
     "output_type": "stream",
     "text": [
      "[['gangs', 'of', 'wasseypur', 'is', 'a', 'great', 'movie', '.', 'wasseypur', 'is', 'a', 'town', 'in', 'bihar', '.'], ['the', 'success', 'of', 'a', 'song', 'depends', 'on', 'the', 'music', '.'], ['there', 'is', 'a', 'movie', 'releasing', 'this', 'week', '.', 'the', 'movie', 'is', 'fun', 'to', 'watch', '.']]\n"
     ]
    }
   ],
   "source": [
    "collectdoc_token=[]\n",
    "for doc in collectdoc_casefold:\n",
    "    collectdoc_token.append(word_tokenize(doc))\n",
    "print(collectdoc_token)"
   ]
  },
  {
   "cell_type": "markdown",
   "id": "bba24ece",
   "metadata": {},
   "source": [
    "## Removal of stopwords"
   ]
  },
  {
   "cell_type": "code",
   "execution_count": 6,
   "id": "99ad56d1",
   "metadata": {},
   "outputs": [],
   "source": [
    "from nltk.corpus import stopwords"
   ]
  },
  {
   "cell_type": "code",
   "execution_count": 22,
   "id": "b5b7d45b",
   "metadata": {},
   "outputs": [
    {
     "name": "stderr",
     "output_type": "stream",
     "text": [
      "[nltk_data] Downloading package stopwords to\n",
      "[nltk_data]     C:\\Users\\jazee\\AppData\\Roaming\\nltk_data...\n",
      "[nltk_data]   Unzipping corpora\\stopwords.zip.\n"
     ]
    },
    {
     "data": {
      "text/plain": [
       "True"
      ]
     },
     "execution_count": 22,
     "metadata": {},
     "output_type": "execute_result"
    }
   ],
   "source": [
    "nltk.download('stopwords')"
   ]
  },
  {
   "cell_type": "code",
   "execution_count": 7,
   "id": "270e4a78",
   "metadata": {},
   "outputs": [
    {
     "name": "stdout",
     "output_type": "stream",
     "text": [
      "[['gangs', 'wasseypur', 'great', 'movie', 'wasseypur', 'town', 'bihar'], ['success', 'song', 'depends', 'music'], ['movie', 'releasing', 'week', 'movie', 'fun', 'watch']]\n"
     ]
    }
   ],
   "source": [
    "stop_words = set(stopwords.words('english'))\n",
    "\n",
    "collectdoc_filtered = []\n",
    "for doc in collectdoc_token:\n",
    "    filtered_doc = []\n",
    "    for word in doc:\n",
    "        if word not in stop_words and word not in \",.;:\":\n",
    "            filtered_doc.append(word)\n",
    "    collectdoc_filtered.append(filtered_doc)\n",
    "print(collectdoc_filtered)"
   ]
  },
  {
   "cell_type": "markdown",
   "id": "9d158ac7",
   "metadata": {},
   "source": [
    "## Stemming"
   ]
  },
  {
   "cell_type": "code",
   "execution_count": 8,
   "id": "69769df8",
   "metadata": {},
   "outputs": [],
   "source": [
    "from nltk.stem import PorterStemmer"
   ]
  },
  {
   "cell_type": "code",
   "execution_count": 9,
   "id": "bf7929eb",
   "metadata": {},
   "outputs": [
    {
     "name": "stdout",
     "output_type": "stream",
     "text": [
      "[['gang', 'wasseypur', 'great', 'movi', 'wasseypur', 'town', 'bihar'], ['success', 'song', 'depend', 'music'], ['movi', 'releas', 'week', 'movi', 'fun', 'watch']]\n"
     ]
    }
   ],
   "source": [
    "ps = PorterStemmer() #removing the commoner morphological and inflexional endings from words in English\n",
    "collectdoc_stemmed = []\n",
    "for doc in collectdoc_filtered:\n",
    "    stem_doc = []\n",
    "    for word in doc:\n",
    "        stem_doc.append(ps.stem(word))\n",
    "    collectdoc_stemmed.append(stem_doc)\n",
    "print(collectdoc_stemmed)"
   ]
  },
  {
   "cell_type": "markdown",
   "id": "ca457f25",
   "metadata": {},
   "source": [
    "# TD-IDF Vectorization"
   ]
  },
  {
   "cell_type": "markdown",
   "id": "3893c01c",
   "metadata": {},
   "source": [
    "## Frequency Count"
   ]
  },
  {
   "cell_type": "code",
   "execution_count": 14,
   "id": "b3229db2",
   "metadata": {},
   "outputs": [],
   "source": [
    "from sklearn.feature_extraction.text import CountVectorizer\n",
    "#Scikit-learn's CountVectorizer :convert a collection of text documents to a vector of term/token counts"
   ]
  },
  {
   "cell_type": "code",
   "execution_count": 11,
   "id": "d0a2a107",
   "metadata": {},
   "outputs": [],
   "source": [
    "def empty(doc):\n",
    "    return doc"
   ]
  },
  {
   "cell_type": "code",
   "execution_count": 15,
   "id": "686884d3",
   "metadata": {},
   "outputs": [],
   "source": [
    "count_vector = CountVectorizer(tokenizer=empty,preprocessor=empty)\n",
    "word_count_vector = count_vector.fit_transform(collectdoc_stemmed)"
   ]
  },
  {
   "cell_type": "code",
   "execution_count": 16,
   "id": "6a955bdf",
   "metadata": {},
   "outputs": [
    {
     "data": {
      "text/plain": [
       "array([[1, 0, 0, 1, 1, 1, 0, 0, 0, 0, 1, 2, 0, 0],\n",
       "       [0, 1, 0, 0, 0, 0, 1, 0, 1, 1, 0, 0, 0, 0],\n",
       "       [0, 0, 1, 0, 0, 2, 0, 1, 0, 0, 0, 0, 1, 1]], dtype=int64)"
      ]
     },
     "execution_count": 16,
     "metadata": {},
     "output_type": "execute_result"
    }
   ],
   "source": [
    "word_count_vector.toarray()#Generated frequency of words in a document"
   ]
  },
  {
   "cell_type": "code",
   "execution_count": 17,
   "id": "94579a65",
   "metadata": {},
   "outputs": [
    {
     "data": {
      "text/plain": [
       "['bihar',\n",
       " 'depend',\n",
       " 'fun',\n",
       " 'gang',\n",
       " 'great',\n",
       " 'movi',\n",
       " 'music',\n",
       " 'releas',\n",
       " 'song',\n",
       " 'success',\n",
       " 'town',\n",
       " 'wasseypur',\n",
       " 'watch',\n",
       " 'week']"
      ]
     },
     "execution_count": 17,
     "metadata": {},
     "output_type": "execute_result"
    }
   ],
   "source": [
    "count_vector.get_feature_names()#words for which the frequencies are generated."
   ]
  },
  {
   "cell_type": "markdown",
   "id": "badf02ba",
   "metadata": {},
   "source": [
    "## Tf-idf Transformer Initialization\n",
    "\n",
    "### Convert frequency of words matrix to Tf-idf matrix\n"
   ]
  },
  {
   "cell_type": "code",
   "execution_count": 18,
   "id": "f0ecd4c8",
   "metadata": {},
   "outputs": [],
   "source": [
    "from sklearn.feature_extraction.text import TfidfTransformer\n",
    "# Tfidftransformer will compute word counts using CountVectorizer \n",
    "#and then compute the IDF values and only then compute the Tf-idf scores"
   ]
  },
  {
   "cell_type": "code",
   "execution_count": 19,
   "id": "b47ffb83",
   "metadata": {},
   "outputs": [],
   "source": [
    "tfidf_trans = TfidfTransformer(smooth_idf=True,use_idf=True)"
   ]
  },
  {
   "cell_type": "code",
   "execution_count": 20,
   "id": "74730c34",
   "metadata": {},
   "outputs": [],
   "source": [
    "tfidf_trans_fit = tfidf_trans.fit(word_count_vector)"
   ]
  },
  {
   "cell_type": "markdown",
   "id": "19f19d80",
   "metadata": {},
   "source": [
    "#### Weights for IDF "
   ]
  },
  {
   "cell_type": "code",
   "execution_count": 21,
   "id": "eb87d654",
   "metadata": {},
   "outputs": [
    {
     "data": {
      "text/plain": [
       "array([1.69314718, 1.69314718, 1.69314718, 1.69314718, 1.69314718,\n",
       "       1.28768207, 1.69314718, 1.69314718, 1.69314718, 1.69314718,\n",
       "       1.69314718, 1.69314718, 1.69314718, 1.69314718])"
      ]
     },
     "execution_count": 21,
     "metadata": {},
     "output_type": "execute_result"
    }
   ],
   "source": [
    "tfidf_trans.idf_  #here idf values for each word for all documents are same ."
   ]
  },
  {
   "cell_type": "markdown",
   "id": "ae1cdc10",
   "metadata": {},
   "source": [
    "## TF-IDF Vector"
   ]
  },
  {
   "cell_type": "code",
   "execution_count": 22,
   "id": "8ff5df81",
   "metadata": {},
   "outputs": [],
   "source": [
    "tf_idf_vector=tfidf_trans_fit.transform(word_count_vector)"
   ]
  },
  {
   "cell_type": "code",
   "execution_count": 23,
   "id": "03f0bdbb",
   "metadata": {},
   "outputs": [
    {
     "data": {
      "text/plain": [
       "array([[0.34142622, 0.        , 0.        , 0.34142622, 0.34142622,\n",
       "        0.25966344, 0.        , 0.        , 0.        , 0.        ,\n",
       "        0.34142622, 0.68285244, 0.        , 0.        ],\n",
       "       [0.        , 0.5       , 0.        , 0.        , 0.        ,\n",
       "        0.        , 0.5       , 0.        , 0.5       , 0.5       ,\n",
       "        0.        , 0.        , 0.        , 0.        ],\n",
       "       [0.        , 0.        , 0.39798027, 0.        , 0.        ,\n",
       "        0.60534851, 0.        , 0.39798027, 0.        , 0.        ,\n",
       "        0.        , 0.        , 0.39798027, 0.39798027]])"
      ]
     },
     "execution_count": 23,
     "metadata": {},
     "output_type": "execute_result"
    }
   ],
   "source": [
    "tf_idf_vector.toarray() #returns an ndarray"
   ]
  },
  {
   "cell_type": "markdown",
   "id": "80879d3c",
   "metadata": {},
   "source": [
    "## Creating DataFrames using Pandas"
   ]
  },
  {
   "cell_type": "code",
   "execution_count": 54,
   "id": "9bb841e5",
   "metadata": {},
   "outputs": [],
   "source": [
    "import pandas as pd"
   ]
  },
  {
   "cell_type": "code",
   "execution_count": 73,
   "id": "2324a627",
   "metadata": {},
   "outputs": [
    {
     "data": {
      "text/html": [
       "<div>\n",
       "<style scoped>\n",
       "    .dataframe tbody tr th:only-of-type {\n",
       "        vertical-align: middle;\n",
       "    }\n",
       "\n",
       "    .dataframe tbody tr th {\n",
       "        vertical-align: top;\n",
       "    }\n",
       "\n",
       "    .dataframe thead th {\n",
       "        text-align: right;\n",
       "    }\n",
       "</style>\n",
       "<table border=\"1\" class=\"dataframe\">\n",
       "  <thead>\n",
       "    <tr style=\"text-align: right;\">\n",
       "      <th></th>\n",
       "      <th>bihar</th>\n",
       "      <th>depend</th>\n",
       "      <th>fun</th>\n",
       "      <th>gang</th>\n",
       "      <th>great</th>\n",
       "      <th>movi</th>\n",
       "      <th>music</th>\n",
       "      <th>releas</th>\n",
       "      <th>song</th>\n",
       "      <th>success</th>\n",
       "      <th>town</th>\n",
       "      <th>wasseypur</th>\n",
       "      <th>watch</th>\n",
       "      <th>week</th>\n",
       "    </tr>\n",
       "  </thead>\n",
       "  <tbody>\n",
       "    <tr>\n",
       "      <th>tf-idf of doc1</th>\n",
       "      <td>0.341426</td>\n",
       "      <td>0.0</td>\n",
       "      <td>0.00000</td>\n",
       "      <td>0.341426</td>\n",
       "      <td>0.341426</td>\n",
       "      <td>0.259663</td>\n",
       "      <td>0.0</td>\n",
       "      <td>0.00000</td>\n",
       "      <td>0.0</td>\n",
       "      <td>0.0</td>\n",
       "      <td>0.341426</td>\n",
       "      <td>0.682852</td>\n",
       "      <td>0.00000</td>\n",
       "      <td>0.00000</td>\n",
       "    </tr>\n",
       "    <tr>\n",
       "      <th>tf-idf of doc2</th>\n",
       "      <td>0.000000</td>\n",
       "      <td>0.5</td>\n",
       "      <td>0.00000</td>\n",
       "      <td>0.000000</td>\n",
       "      <td>0.000000</td>\n",
       "      <td>0.000000</td>\n",
       "      <td>0.5</td>\n",
       "      <td>0.00000</td>\n",
       "      <td>0.5</td>\n",
       "      <td>0.5</td>\n",
       "      <td>0.000000</td>\n",
       "      <td>0.000000</td>\n",
       "      <td>0.00000</td>\n",
       "      <td>0.00000</td>\n",
       "    </tr>\n",
       "    <tr>\n",
       "      <th>tf-idf of doc3</th>\n",
       "      <td>0.000000</td>\n",
       "      <td>0.0</td>\n",
       "      <td>0.39798</td>\n",
       "      <td>0.000000</td>\n",
       "      <td>0.000000</td>\n",
       "      <td>0.605349</td>\n",
       "      <td>0.0</td>\n",
       "      <td>0.39798</td>\n",
       "      <td>0.0</td>\n",
       "      <td>0.0</td>\n",
       "      <td>0.000000</td>\n",
       "      <td>0.000000</td>\n",
       "      <td>0.39798</td>\n",
       "      <td>0.39798</td>\n",
       "    </tr>\n",
       "  </tbody>\n",
       "</table>\n",
       "</div>"
      ],
      "text/plain": [
       "                   bihar  depend      fun      gang     great      movi  \\\n",
       "tf-idf of doc1  0.341426     0.0  0.00000  0.341426  0.341426  0.259663   \n",
       "tf-idf of doc2  0.000000     0.5  0.00000  0.000000  0.000000  0.000000   \n",
       "tf-idf of doc3  0.000000     0.0  0.39798  0.000000  0.000000  0.605349   \n",
       "\n",
       "                music   releas  song  success      town  wasseypur    watch  \\\n",
       "tf-idf of doc1    0.0  0.00000   0.0      0.0  0.341426   0.682852  0.00000   \n",
       "tf-idf of doc2    0.5  0.00000   0.5      0.5  0.000000   0.000000  0.00000   \n",
       "tf-idf of doc3    0.0  0.39798   0.0      0.0  0.000000   0.000000  0.39798   \n",
       "\n",
       "                   week  \n",
       "tf-idf of doc1  0.00000  \n",
       "tf-idf of doc2  0.00000  \n",
       "tf-idf of doc3  0.39798  "
      ]
     },
     "execution_count": 73,
     "metadata": {},
     "output_type": "execute_result"
    }
   ],
   "source": [
    "feature_names = count_vector.get_feature_names() \n",
    "finalresult= pd.DataFrame\n",
    "def ind(n):\n",
    "    row_names=[]\n",
    "    for i in range(1,n+1):\n",
    "       row_names.append('tf-idf of doc'+ str(i))\n",
    "    return(row_names)\n",
    "finalresult= pd.DataFrame(tf_idf_vector.toarray(), index=ind(len(collectdoc)), columns=feature_names)    \n",
    "finalresult"
   ]
  }
 ],
 "metadata": {
  "kernelspec": {
   "display_name": "Python 3",
   "language": "python",
   "name": "python3"
  },
  "language_info": {
   "codemirror_mode": {
    "name": "ipython",
    "version": 3
   },
   "file_extension": ".py",
   "mimetype": "text/x-python",
   "name": "python",
   "nbconvert_exporter": "python",
   "pygments_lexer": "ipython3",
   "version": "3.8.8"
  }
 },
 "nbformat": 4,
 "nbformat_minor": 5
}
